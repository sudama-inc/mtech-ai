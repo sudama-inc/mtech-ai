{
 "cells": [
  {
   "cell_type": "code",
   "execution_count": 1,
   "metadata": {},
   "outputs": [],
   "source": [
    "import math\n",
    "import random\n",
    "import csv"
   ]
  },
  {
   "cell_type": "code",
   "execution_count": 2,
   "metadata": {},
   "outputs": [],
   "source": [
    "# encode the sample data \n",
    "def encode_class(mydata):\n",
    "    classes = []\n",
    "    # add any new class\n",
    "    for i in range(len(mydata)):\n",
    "        if mydata[i][-1] not in classes:\n",
    "            classes.append(mydata[i][-1])\n",
    "    # add data points\n",
    "    for i in range(len(classes)):\n",
    "        for j in range(len(mydata)):\n",
    "            if mydata[j][-1] == classes[i]:\n",
    "                mydata[j][-1] = i\n",
    "    print(\"There are total of\", len(classes), \"classes, which are \", classes)\n",
    "    return mydata   "
   ]
  },
  {
   "cell_type": "code",
   "execution_count": 3,
   "metadata": {},
   "outputs": [],
   "source": [
    "# Splitting the data\n",
    "def splitting(mydata, ratio):\n",
    "    train_num = int(len(mydata) * ratio)\n",
    "    train = []\n",
    "    # initially testset will have all the dataset\n",
    "    test = list(mydata)\n",
    "    while len(train) < train_num:\n",
    "        # index generated randomly from range 0\n",
    "        # to length of testset\n",
    "        index = random.randrange(len(test))\n",
    "        # from testset, pop data rows and put it in train\n",
    "        train.append(test.pop(index))\n",
    "    return train, test"
   ]
  },
  {
   "cell_type": "code",
   "execution_count": 4,
   "metadata": {},
   "outputs": [],
   "source": [
    "# Group the data rows under each class yes or\n",
    "# no in dictionary eg: dict[yes] and dict[no]\n",
    "def groupUnderClass(mydata):\n",
    "      dict = {}\n",
    "      for i in range(len(mydata)):\n",
    "          if (mydata[i][-1] not in dict):\n",
    "              dict[mydata[i][-1]] = []\n",
    "          dict[mydata[i][-1]].append(mydata[i])\n",
    "      return dict\n",
    " "
   ]
  },
  {
   "cell_type": "code",
   "execution_count": 5,
   "metadata": {},
   "outputs": [],
   "source": [
    "# Calculating Mean\n",
    "def mean(numbers):\n",
    "    return sum(numbers) / float(len(numbers))\n",
    " \n",
    "# Calculating Standard Deviation\n",
    "def std_dev(numbers):\n",
    "    avg = mean(numbers)\n",
    "    variance = sum([pow(x - avg, 2) for x in numbers]) / float(len(numbers) - 1 + 0.01)\n",
    "    return math.sqrt(variance)\n",
    " "
   ]
  },
  {
   "cell_type": "code",
   "execution_count": 6,
   "metadata": {},
   "outputs": [],
   "source": [
    "def MeanAndStdDev(mydata):\n",
    "    info = [(mean(attribute), std_dev(attribute)) for attribute in zip(*mydata)]\n",
    "    # eg: list = [ [a, b, c], [m, n, o], [x, y, z]]\n",
    "    # here mean of 1st attribute =(a + m+x), mean of 2nd attribute = (b + n+y)/3\n",
    "    # delete summaries of last class\n",
    "    del info[-1]\n",
    "    return info\n",
    " \n",
    "# find Mean and Standard Deviation under each class\n",
    "def MeanAndStdDevForClass(mydata):\n",
    "    info = {}\n",
    "    dict = groupUnderClass(mydata)\n",
    "    for classValue, instances in dict.items():\n",
    "        info[classValue] = MeanAndStdDev(instances)\n",
    "    return info"
   ]
  },
  {
   "cell_type": "code",
   "execution_count": 7,
   "metadata": {},
   "outputs": [],
   "source": [
    "# Calculate Gaussian Probability Density Function\n",
    "def calculateGaussianProbability(x, mean, stdev):\n",
    "    if stdev == 0:  # Handle zero standard deviation\n",
    "        return 1.0 if x == mean else 0.0\n",
    "    expo = math.exp(-(math.pow(x - mean, 2) / (2 * math.pow(stdev, 2))))\n",
    "    return (1 / (math.sqrt(2 * math.pi) * stdev)) * expo\n",
    " \n",
    " \n",
    "# Calculate Class Probabilities\n",
    "def calculateClassProbabilities(info, test):\n",
    "    probabilities = {}\n",
    "    for classValue, classSummaries in info.items():\n",
    "        probabilities[classValue] = 1\n",
    "        for i in range(len(classSummaries)):\n",
    "            mean, std_dev = classSummaries[i]\n",
    "            x = test[i]\n",
    "            probabilities[classValue] *= calculateGaussianProbability(x, mean, std_dev)\n",
    "    return probabilities"
   ]
  },
  {
   "cell_type": "code",
   "execution_count": 8,
   "metadata": {},
   "outputs": [],
   "source": [
    "# Make prediction - highest probability is the prediction\n",
    "def predict(info, test):\n",
    "    probabilities = calculateClassProbabilities(info, test)\n",
    "    bestLabel, bestProb = None, -1\n",
    "    for classValue, probability in probabilities.items():\n",
    "        if bestLabel is None or probability > bestProb:\n",
    "            bestProb = probability\n",
    "            bestLabel = classValue\n",
    "    return bestLabel"
   ]
  },
  {
   "cell_type": "code",
   "execution_count": 9,
   "metadata": {},
   "outputs": [],
   "source": [
    "# returns predictions for a set of examples\n",
    "def getPredictions(info, test):\n",
    "    predictions = []\n",
    "    for i in range(len(test)):\n",
    "        result = predict(info, test[i])\n",
    "        predictions.append(result)\n",
    "    return predictions\n",
    " \n",
    "# Accuracy score\n",
    "def accuracy_rate(test, predictions):\n",
    "    correct = 0\n",
    "    for i in range(len(test)):\n",
    "        if test[i][-1] == predictions[i]:\n",
    "            correct += 1\n",
    "    return (correct / float(len(test))) * 100.0\n",
    "\n"
   ]
  },
  {
   "cell_type": "code",
   "execution_count": 10,
   "metadata": {},
   "outputs": [
    {
     "name": "stdout",
     "output_type": "stream",
     "text": [
      "There are total of 3 classes, which are  ['Class', 'good', 'bad']\n"
     ]
    }
   ],
   "source": [
    "# add the data path in your system\n",
    "\n",
    "filename = r'ion_binary_classification.csv'\n",
    " \n",
    " \n",
    "# load the file and store it in mydata list\n",
    "mydata = csv.reader(open(filename, \"rt\"))\n",
    "mydata = list(mydata)\n",
    "mydata = encode_class(mydata)\n",
    "\n",
    "# List comprehension to remove the first element from each sublist\n",
    "mydata = [i[1:] for i in mydata]\n",
    "mydata = mydata[1:]\n"
   ]
  },
  {
   "cell_type": "code",
   "execution_count": 11,
   "metadata": {},
   "outputs": [],
   "source": [
    "# Convert string numbers to float values \n",
    "for i in range(len(mydata)):\n",
    "    mydata[i] = [float(x) for x in mydata[i]]"
   ]
  },
  {
   "cell_type": "code",
   "execution_count": 12,
   "metadata": {},
   "outputs": [
    {
     "name": "stdout",
     "output_type": "stream",
     "text": [
      "Total number of examples are:  351\n",
      "Out of these, training examples are:  280\n",
      "Test examples are:  71\n"
     ]
    }
   ],
   "source": [
    "# split ratio = 0.8\n",
    "# 70% of data is training data and 30% is test data used for testing\n",
    "ratio = 0.8\n",
    "train_data, test_data = splitting(mydata, ratio)\n",
    "print('Total number of examples are: ', len(mydata))\n",
    "print('Out of these, training examples are: ', len(train_data))\n",
    "print(\"Test examples are: \", len(test_data))\n",
    " \n",
    "# prepare model\n",
    "info = MeanAndStdDevForClass(train_data)\n",
    " \n",
    "# test model\n",
    "predictions = getPredictions(info, test_data)\n",
    "accuracy = accuracy_rate(test_data, predictions)\n"
   ]
  },
  {
   "cell_type": "code",
   "execution_count": 13,
   "metadata": {},
   "outputs": [
    {
     "name": "stdout",
     "output_type": "stream",
     "text": [
      "Accuracy of your model is: 85.92%\n",
      "Class 2.0:\n",
      "Precision: 0.73\n",
      "Recall: 0.86\n",
      "F1-Score: 0.79\n",
      "------------------------------\n",
      "Class 1.0:\n",
      "Precision: 0.93\n",
      "Recall: 0.86\n",
      "F1-Score: 0.89\n",
      "------------------------------\n"
     ]
    }
   ],
   "source": [
    "from collections import defaultdict\n",
    "\n",
    "# Calculate the confusion matrix components: TP, FP, FN, TN\n",
    "def confusion_matrix_components(test, predictions):\n",
    "    # Initialize counters for each class\n",
    "    true_positive = defaultdict(int)\n",
    "    false_positive = defaultdict(int)\n",
    "    false_negative = defaultdict(int)\n",
    "    true_negative = defaultdict(int)\n",
    "    \n",
    "    for i in range(len(test)):\n",
    "        actual = test[i][-1]\n",
    "        predicted = predictions[i]\n",
    "        \n",
    "        # True Positive (TP), False Positive (FP), False Negative (FN), True Negative (TN)\n",
    "        if actual == predicted:\n",
    "            true_positive[actual] += 1\n",
    "            for class_value in set(true_positive.keys()).union(false_positive.keys()):\n",
    "                if class_value != actual:\n",
    "                    true_negative[class_value] += 1\n",
    "        else:\n",
    "            false_positive[predicted] += 1\n",
    "            false_negative[actual] += 1\n",
    "            for class_value in set(true_positive.keys()).union(false_positive.keys()):\n",
    "                if class_value != actual and predicted != class_value:\n",
    "                    true_negative[class_value] += 1\n",
    "                    \n",
    "    return true_positive, false_positive, false_negative, true_negative\n",
    "\n",
    "# Precision calculation\n",
    "def precision_score(true_positive, false_positive):\n",
    "    precisions = {}\n",
    "    for class_value in true_positive.keys():\n",
    "        if true_positive[class_value] + false_positive[class_value] == 0:\n",
    "            precisions[class_value] = 0.0\n",
    "        else:\n",
    "            precisions[class_value] = true_positive[class_value] / (true_positive[class_value] + false_positive[class_value])\n",
    "    return precisions\n",
    "\n",
    "# Recall calculation\n",
    "def recall_score(true_positive, false_negative):\n",
    "    recalls = {}\n",
    "    for class_value in true_positive.keys():\n",
    "        if true_positive[class_value] + false_negative[class_value] == 0:\n",
    "            recalls[class_value] = 0.0\n",
    "        else:\n",
    "            recalls[class_value] = true_positive[class_value] / (true_positive[class_value] + false_negative[class_value])\n",
    "    return recalls\n",
    "\n",
    "# F1 Score calculation\n",
    "def f1_score(precision, recall):\n",
    "    f1_scores = {}\n",
    "    for class_value in precision.keys():\n",
    "        if precision[class_value] + recall[class_value] == 0:\n",
    "            f1_scores[class_value] = 0.0\n",
    "        else:\n",
    "            f1_scores[class_value] = 2 * (precision[class_value] * recall[class_value]) / (precision[class_value] + recall[class_value])\n",
    "    return f1_scores\n",
    "\n",
    "# Calculate precision, recall, and F1-score for each class\n",
    "def calculate_metrics(test, predictions):\n",
    "    tp, fp, fn, tn = confusion_matrix_components(test, predictions)\n",
    "    precision = precision_score(tp, fp)\n",
    "    recall = recall_score(tp, fn)\n",
    "    f1 = f1_score(precision, recall)\n",
    "    \n",
    "    # Print results for each class\n",
    "    for class_value in precision.keys():\n",
    "        print(f\"Class {class_value}:\")\n",
    "        print(f\"Precision: {precision[class_value]:.2f}\")\n",
    "        print(f\"Recall: {recall[class_value]:.2f}\")\n",
    "        print(f\"F1-Score: {f1[class_value]:.2f}\")\n",
    "        print(\"-\" * 30)\n",
    "\n",
    "# Test the model with the new metrics\n",
    "accuracy = accuracy_rate(test_data, predictions)\n",
    "print(f\"Accuracy of your model is: {accuracy:.2f}%\")\n",
    "\n",
    "# Print precision, recall, and F1-score\n",
    "calculate_metrics(test_data, predictions)\n"
   ]
  },
  {
   "cell_type": "code",
   "execution_count": null,
   "metadata": {},
   "outputs": [],
   "source": []
  },
  {
   "cell_type": "markdown",
   "metadata": {},
   "source": [
    "##### =================================================\n",
    "##### Comparision Analysis Implementation with Sk-Learn"
   ]
  },
  {
   "cell_type": "code",
   "execution_count": 14,
   "metadata": {},
   "outputs": [],
   "source": [
    "# %pip install seaborn\n",
    "# %pip install pandas\n",
    "# %pip install numpy\n",
    "# %pip install matplotlib\n",
    "# %pip install scikit-learn"
   ]
  },
  {
   "cell_type": "code",
   "execution_count": 15,
   "metadata": {},
   "outputs": [],
   "source": [
    "import numpy as np\n",
    "import pandas as pd\n",
    "import seaborn as sns\n",
    "from IPython.display import display\n",
    "\n",
    "import matplotlib.pyplot as plt\n",
    "\n",
    "\n",
    "from sklearn.model_selection import train_test_split\n",
    "from sklearn.naive_bayes import GaussianNB, MultinomialNB\n",
    "from sklearn.metrics import accuracy_score, precision_score, recall_score, f1_score, confusion_matrix\n"
   ]
  },
  {
   "cell_type": "code",
   "execution_count": 16,
   "metadata": {},
   "outputs": [
    {
     "data": {
      "text/html": [
       "<div>\n",
       "<style scoped>\n",
       "    .dataframe tbody tr th:only-of-type {\n",
       "        vertical-align: middle;\n",
       "    }\n",
       "\n",
       "    .dataframe tbody tr th {\n",
       "        vertical-align: top;\n",
       "    }\n",
       "\n",
       "    .dataframe thead th {\n",
       "        text-align: right;\n",
       "    }\n",
       "</style>\n",
       "<table border=\"1\" class=\"dataframe\">\n",
       "  <thead>\n",
       "    <tr style=\"text-align: right;\">\n",
       "      <th></th>\n",
       "      <th>V1</th>\n",
       "      <th>V2</th>\n",
       "      <th>V3</th>\n",
       "      <th>V4</th>\n",
       "      <th>V5</th>\n",
       "      <th>V6</th>\n",
       "      <th>V7</th>\n",
       "      <th>V8</th>\n",
       "      <th>V9</th>\n",
       "      <th>V10</th>\n",
       "      <th>...</th>\n",
       "      <th>V26</th>\n",
       "      <th>V27</th>\n",
       "      <th>V28</th>\n",
       "      <th>V29</th>\n",
       "      <th>V30</th>\n",
       "      <th>V31</th>\n",
       "      <th>V32</th>\n",
       "      <th>V33</th>\n",
       "      <th>V34</th>\n",
       "      <th>Class</th>\n",
       "    </tr>\n",
       "  </thead>\n",
       "  <tbody>\n",
       "    <tr>\n",
       "      <th>0</th>\n",
       "      <td>1</td>\n",
       "      <td>0</td>\n",
       "      <td>0.99539</td>\n",
       "      <td>-0.05889</td>\n",
       "      <td>0.85243</td>\n",
       "      <td>0.02306</td>\n",
       "      <td>0.83398</td>\n",
       "      <td>-0.37708</td>\n",
       "      <td>1.0</td>\n",
       "      <td>0.03760</td>\n",
       "      <td>...</td>\n",
       "      <td>-0.51171</td>\n",
       "      <td>0.41078</td>\n",
       "      <td>-0.46168</td>\n",
       "      <td>0.21266</td>\n",
       "      <td>-0.34090</td>\n",
       "      <td>0.42267</td>\n",
       "      <td>-0.54487</td>\n",
       "      <td>0.18641</td>\n",
       "      <td>-0.45300</td>\n",
       "      <td>good</td>\n",
       "    </tr>\n",
       "    <tr>\n",
       "      <th>1</th>\n",
       "      <td>1</td>\n",
       "      <td>0</td>\n",
       "      <td>1.00000</td>\n",
       "      <td>-0.18829</td>\n",
       "      <td>0.93035</td>\n",
       "      <td>-0.36156</td>\n",
       "      <td>-0.10868</td>\n",
       "      <td>-0.93597</td>\n",
       "      <td>1.0</td>\n",
       "      <td>-0.04549</td>\n",
       "      <td>...</td>\n",
       "      <td>-0.26569</td>\n",
       "      <td>-0.20468</td>\n",
       "      <td>-0.18401</td>\n",
       "      <td>-0.19040</td>\n",
       "      <td>-0.11593</td>\n",
       "      <td>-0.16626</td>\n",
       "      <td>-0.06288</td>\n",
       "      <td>-0.13738</td>\n",
       "      <td>-0.02447</td>\n",
       "      <td>bad</td>\n",
       "    </tr>\n",
       "  </tbody>\n",
       "</table>\n",
       "<p>2 rows × 35 columns</p>\n",
       "</div>"
      ],
      "text/plain": [
       "   V1  V2       V3       V4       V5       V6       V7       V8   V9      V10  \\\n",
       "0   1   0  0.99539 -0.05889  0.85243  0.02306  0.83398 -0.37708  1.0  0.03760   \n",
       "1   1   0  1.00000 -0.18829  0.93035 -0.36156 -0.10868 -0.93597  1.0 -0.04549   \n",
       "\n",
       "   ...      V26      V27      V28      V29      V30      V31      V32  \\\n",
       "0  ... -0.51171  0.41078 -0.46168  0.21266 -0.34090  0.42267 -0.54487   \n",
       "1  ... -0.26569 -0.20468 -0.18401 -0.19040 -0.11593 -0.16626 -0.06288   \n",
       "\n",
       "       V33      V34  Class  \n",
       "0  0.18641 -0.45300   good  \n",
       "1 -0.13738 -0.02447    bad  \n",
       "\n",
       "[2 rows x 35 columns]"
      ]
     },
     "metadata": {},
     "output_type": "display_data"
    }
   ],
   "source": [
    "# Load the dataset\n",
    "file_path = 'ion_binary_classification.csv'\n",
    "df = pd.read_csv(file_path)\n",
    "\n",
    "# Drop column 'Unnamed: 0' permanently\n",
    "df.drop('Unnamed: 0', axis=1, inplace=True)\n",
    "\n",
    "# Display basic information and the first few rows of the dataset\n",
    "display(df.head(2))"
   ]
  },
  {
   "cell_type": "code",
   "execution_count": 17,
   "metadata": {},
   "outputs": [
    {
     "name": "stdout",
     "output_type": "stream",
     "text": [
      "Data is not having Null valuse.\n"
     ]
    }
   ],
   "source": [
    "# Check for NaN values in the dataset\n",
    "if df.isnull().values.any():\n",
    "    print(\"Data contains NaN values. Please handle them before fitting the model.\")\n",
    "else:\n",
    "    print(\"Data is not having Null valuse.\")"
   ]
  },
  {
   "cell_type": "code",
   "execution_count": 18,
   "metadata": {},
   "outputs": [],
   "source": [
    "# Convert the 'Class' column to binary values: 'good' becomes 1, 'bad' becomes 0\n",
    "df['Class'] = df['Class'].apply(lambda x: 1 if x == 'good' else 0)\n",
    "X = df.drop(columns=['Class']).values\n",
    "y = df['Class'].values\n"
   ]
  },
  {
   "cell_type": "code",
   "execution_count": 19,
   "metadata": {},
   "outputs": [],
   "source": [
    "# Split the dataset into training (80%) and testing (20%) sets\n",
    "X_train, X_test, y_train, y_test = train_test_split(X, y, test_size=0.2, random_state=42)\n",
    "\n",
    "# Initialize the Naive Bayes model\n",
    "model = GaussianNB()\n",
    "\n",
    "# Train the model\n",
    "model.fit(X_train, y_train)\n",
    "\n",
    "# Make predictions on the test set\n",
    "y_pred = model.predict(X_test)\n",
    "\n"
   ]
  },
  {
   "cell_type": "code",
   "execution_count": 20,
   "metadata": {},
   "outputs": [],
   "source": [
    "# Calculate performance metrics\n",
    "accuracy = accuracy_score(y_test, y_pred)\n",
    "precision = precision_score(y_test, y_pred)\n",
    "recall = recall_score(y_test, y_pred)\n",
    "f1 = f1_score(y_test, y_pred)\n",
    "\n",
    "# Create the confusion matrix\n",
    "conf_matrix = confusion_matrix(y_test, y_pred)\n"
   ]
  },
  {
   "cell_type": "code",
   "execution_count": 21,
   "metadata": {},
   "outputs": [
    {
     "name": "stdout",
     "output_type": "stream",
     "text": [
      "Accuracy :  0.8732394366197183\n",
      "Precision :  0.8541666666666666\n",
      "Recall :  0.9534883720930233\n",
      "F1 :  0.9010989010989011\n",
      "\n",
      "\n",
      "Confusion Matrix : \n",
      " [[21  7]\n",
      " [ 2 41]]\n"
     ]
    }
   ],
   "source": [
    "# Output metrics\n",
    "\n",
    "print('Accuracy : ', accuracy)\n",
    "print('Precision : ', precision)\n",
    "print('Recall : ', recall)\n",
    "print('F1 : ', f1)\n",
    "print('\\n')\n",
    "# Output confusion matrix\n",
    "print('Confusion Matrix : \\n', conf_matrix)"
   ]
  },
  {
   "cell_type": "code",
   "execution_count": 22,
   "metadata": {},
   "outputs": [
    {
     "data": {
      "image/png": "[encoded data removed]",
      "text/plain": [
       "<Figure size 600x400 with 1 Axes>"
      ]
     },
     "metadata": {},
     "output_type": "display_data"
    }
   ],
   "source": [
    "# Plot the confusion matrix\n",
    "plt.figure(figsize=(6, 4))\n",
    "sns.heatmap(conf_matrix, annot=True, fmt='d', cmap='Blues', cbar=False)\n",
    "plt.title('Confusion Matrix')\n",
    "plt.ylabel('Actual')\n",
    "plt.xlabel('Predicted')\n",
    "plt.show()"
   ]
  }
 ],
 "metadata": {
  "kernelspec": {
   "display_name": ".venv",
   "language": "python",
   "name": "python3"
  },
  "language_info": {
   "codemirror_mode": {
    "name": "ipython",
    "version": 3
   },
   "file_extension": ".py",
   "mimetype": "text/x-python",
   "name": "python",
   "nbconvert_exporter": "python",
   "pygments_lexer": "ipython3",
   "version": "3.12.6"
  }
 },
 "nbformat": 4,
 "nbformat_minor": 2
}
